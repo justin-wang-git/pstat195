{
 "cells": [
  {
   "cell_type": "code",
   "execution_count": 1,
   "metadata": {
    "deletable": false,
    "editable": false
   },
   "outputs": [
    {
     "name": "stdout",
     "output_type": "stream",
     "text": [
      "=====================================================================\n",
      "Assignment: hw1\n",
      "OK, version v1.14.20\n",
      "=====================================================================\n",
      "\n"
     ]
    }
   ],
   "source": [
    "# Initialize OK\n",
    "from client.api.notebook import Notebook\n",
    "ok = Notebook('hw1.ok')"
   ]
  },
  {
   "cell_type": "markdown",
   "metadata": {
    "toc": true
   },
   "source": [
    "<h1>Table of Contents<span class=\"tocSkip\"></span></h1>\n",
    "<div class=\"toc\"><ul class=\"toc-item\"><li><span><a href=\"#HW-1:-Math-Review-and-Plotting\" data-toc-modified-id=\"HW-1:-Math-Review-and-Plotting-1\"><span class=\"toc-item-num\">1&nbsp;&nbsp;</span>HW 1: Math Review and Plotting</a></span><ul class=\"toc-item\"><li><span><a href=\"#Due-Date:-Friday,-April-10-11:59-PM\" data-toc-modified-id=\"Due-Date:-Friday,-April-10-11:59-PM-1.1\"><span class=\"toc-item-num\">1.1&nbsp;&nbsp;</span>Due Date: Friday, April 10 11:59 PM</a></span></li><li><span><a href=\"#Collaboration-Policy\" data-toc-modified-id=\"Collaboration-Policy-1.2\"><span class=\"toc-item-num\">1.2&nbsp;&nbsp;</span>Collaboration Policy</a></span></li><li><span><a href=\"#This-Assignment\" data-toc-modified-id=\"This-Assignment-1.3\"><span class=\"toc-item-num\">1.3&nbsp;&nbsp;</span>This Assignment</a></span><ul class=\"toc-item\"><li><span><a href=\"#Initialize-your-environment\" data-toc-modified-id=\"Initialize-your-environment-1.3.1\"><span class=\"toc-item-num\">1.3.1&nbsp;&nbsp;</span>Initialize your environment</a></span></li></ul></li><li><span><a href=\"#Question-1\" data-toc-modified-id=\"Question-1-1.4\"><span class=\"toc-item-num\">1.4&nbsp;&nbsp;</span>Question 1</a></span></li></ul></li><li><span><a href=\"#NumPy\" data-toc-modified-id=\"NumPy-2\"><span class=\"toc-item-num\">2&nbsp;&nbsp;</span>NumPy</a></span><ul class=\"toc-item\"><li><span><a href=\"#Question-2a\" data-toc-modified-id=\"Question-2a-2.1\"><span class=\"toc-item-num\">2.1&nbsp;&nbsp;</span>Question 2a</a></span></li><li><span><a href=\"#Question-2b\" data-toc-modified-id=\"Question-2b-2.2\"><span class=\"toc-item-num\">2.2&nbsp;&nbsp;</span>Question 2b</a></span></li><li><span><a href=\"#Question-2c\" data-toc-modified-id=\"Question-2c-2.3\"><span class=\"toc-item-num\">2.3&nbsp;&nbsp;</span>Question 2c</a></span></li><li><span><a href=\"#Question-2d\" data-toc-modified-id=\"Question-2d-2.4\"><span class=\"toc-item-num\">2.4&nbsp;&nbsp;</span>Question 2d</a></span></li></ul></li><li><span><a href=\"#Multivariable-Calculus,-Linear-Algebra,-and-Probability\" data-toc-modified-id=\"Multivariable-Calculus,-Linear-Algebra,-and-Probability-3\"><span class=\"toc-item-num\">3&nbsp;&nbsp;</span>Multivariable Calculus, Linear Algebra, and Probability</a></span><ul class=\"toc-item\"><li><span><a href=\"#Question-3\" data-toc-modified-id=\"Question-3-3.1\"><span class=\"toc-item-num\">3.1&nbsp;&nbsp;</span>Question 3</a></span><ul class=\"toc-item\"><li><ul class=\"toc-item\"><li><span><a href=\"#Statement-I\" data-toc-modified-id=\"Statement-I-3.1.0.1\"><span class=\"toc-item-num\">3.1.0.1&nbsp;&nbsp;</span>Statement I</a></span></li><li><span><a href=\"#Statement-II\" data-toc-modified-id=\"Statement-II-3.1.0.2\"><span class=\"toc-item-num\">3.1.0.2&nbsp;&nbsp;</span>Statement II</a></span></li><li><span><a href=\"#Statement-III\" data-toc-modified-id=\"Statement-III-3.1.0.3\"><span class=\"toc-item-num\">3.1.0.3&nbsp;&nbsp;</span>Statement III</a></span></li><li><span><a href=\"#Statement-IV\" data-toc-modified-id=\"Statement-IV-3.1.0.4\"><span class=\"toc-item-num\">3.1.0.4&nbsp;&nbsp;</span>Statement IV</a></span></li></ul></li></ul></li></ul></li><li><span><a href=\"#Gradients-and-Differentiation\" data-toc-modified-id=\"Gradients-and-Differentiation-4\"><span class=\"toc-item-num\">4&nbsp;&nbsp;</span>Gradients and Differentiation</a></span><ul class=\"toc-item\"><li><span><a href=\"#Question-4a\" data-toc-modified-id=\"Question-4a-4.1\"><span class=\"toc-item-num\">4.1&nbsp;&nbsp;</span>Question 4a</a></span></li><li><span><a href=\"#Question-4b\" data-toc-modified-id=\"Question-4b-4.2\"><span class=\"toc-item-num\">4.2&nbsp;&nbsp;</span>Question 4b</a></span></li><li><span><a href=\"#Question-4e\" data-toc-modified-id=\"Question-4e-4.3\"><span class=\"toc-item-num\">4.3&nbsp;&nbsp;</span>Question 4e</a></span></li></ul></li><li><span><a href=\"#Baye's-Rule\" data-toc-modified-id=\"Baye's-Rule-5\"><span class=\"toc-item-num\">5&nbsp;&nbsp;</span>Baye's Rule</a></span><ul class=\"toc-item\"><li><span><a href=\"#Question-5\" data-toc-modified-id=\"Question-5-5.1\"><span class=\"toc-item-num\">5.1&nbsp;&nbsp;</span>Question 5</a></span></li></ul></li><li><span><a href=\"#Reading-Documentation\" data-toc-modified-id=\"Reading-Documentation-6\"><span class=\"toc-item-num\">6&nbsp;&nbsp;</span>Reading Documentation</a></span><ul class=\"toc-item\"><li><ul class=\"toc-item\"><li><span><a href=\"#Question-6\" data-toc-modified-id=\"Question-6-6.0.1\"><span class=\"toc-item-num\">6.0.1&nbsp;&nbsp;</span>Question 6</a></span></li></ul></li><li><span><a href=\"#Submission\" data-toc-modified-id=\"Submission-6.1\"><span class=\"toc-item-num\">6.1&nbsp;&nbsp;</span>Submission</a></span></li></ul></li><li><span><a href=\"#Submit\" data-toc-modified-id=\"Submit-7\"><span class=\"toc-item-num\">7&nbsp;&nbsp;</span>Submit</a></span></li></ul></div>"
   ]
  },
  {
   "cell_type": "markdown",
   "metadata": {
    "nbgrader": {
     "grade": false,
     "grade_id": "title",
     "locked": true,
     "schema_version": 2,
     "solution": false
    }
   },
   "source": [
    "# HW 1: Math Review and Plotting\n",
    "## Due Date: Friday, April 10 11:59 PM\n",
    "## Collaboration Policy\n",
    "\n",
    "Data science is a collaborative activity. While you may talk with others about\n",
    "the homework, we ask that you **write your solutions individually**. If you do\n",
    "discuss the assignments with others please **include their names** at the top\n",
    "of your notebook."
   ]
  },
  {
   "cell_type": "markdown",
   "metadata": {},
   "source": [
    "**Collaborators**: *list collaborators here*"
   ]
  },
  {
   "cell_type": "markdown",
   "metadata": {},
   "source": [
    "## This Assignment\n",
    "\n",
    "One of the purposes of this homework is to help you diagnose your preparedness for the course. The rest of this course will assume familiarity with the programming and math concepts covered in this homework. If you struggle with this homework, please consider reviewing prerequisite material or dropping the class.\n"
   ]
  },
  {
   "cell_type": "markdown",
   "metadata": {
    "nbgrader": {
     "grade": false,
     "grade_id": "jupyter-shortcuts",
     "locked": true,
     "schema_version": 2,
     "solution": false
    }
   },
   "source": [
    "Here are some useful Jupyter notebook keyboard shortcuts.  To learn more keyboard shortcuts, go to **Help -> Keyboard Shortcuts** in the menu above. \n",
    "\n",
    "Here are a few we like:\n",
    "1. `ctrl`+`return` : *Evaluate the current cell*\n",
    "1. `shift`+`return`: *Evaluate the current cell and move to the next*\n",
    "1. `esc` : *command mode* (may need to press before using any of the commands below)\n",
    "1. `a` : *create a cell above*\n",
    "1. `b` : *create a cell below*\n",
    "1. `dd` : *delete a cell*\n",
    "1. `m` : *convert a cell to markdown*\n",
    "1. `y` : *convert a cell to code*"
   ]
  },
  {
   "cell_type": "markdown",
   "metadata": {
    "nbgrader": {
     "grade": false,
     "grade_id": "testing-your-setup",
     "locked": true,
     "schema_version": 2,
     "solution": false
    }
   },
   "source": [
    "### Initialize your environment\n",
    "\n",
    "This cell should run without error if you're using the course Jupyter Hub. In this class we'll be using  [Altair](https://altair-viz.github.io/), a statistical visualization library for Python."
   ]
  },
  {
   "cell_type": "code",
   "execution_count": 2,
   "metadata": {
    "nbgrader": {
     "grade": false,
     "grade_id": "all-the-imports",
     "locked": true,
     "schema_version": 2,
     "solution": false
    }
   },
   "outputs": [],
   "source": [
    "import numpy as np\n",
    "import altair as alt\n",
    "import pandas as pd"
   ]
  },
  {
   "cell_type": "markdown",
   "metadata": {
    "nbgrader": {
     "grade": false,
     "grade_id": "question-1d",
     "locked": true,
     "schema_version": 2,
     "solution": false
    }
   },
   "source": [
    "---\n",
    "## Question 1\n",
    "Recall the formula for population variance below:\n",
    "\n",
    "$$\\sigma^2 = \\frac{\\sum_{i=1}^N (x_i - \\mu)^2}{N}$$\n",
    "\n",
    "where $\\mu$ is the population mean. In other words, the population variance is the average of the squared difference between an observation and the mean.  Complete the functions below to compute the population variance of `population`, an array of numbers. For this question, **do not use built in NumPy functions; we will use NumPy to verify your code.**"
   ]
  },
  {
   "cell_type": "markdown",
   "metadata": {
    "deletable": false,
    "editable": false
   },
   "source": [
    "<!--\n",
    "BEGIN QUESTION\n",
    "name: q1\n",
    "manual: true\n",
    "-->\n",
    "<!-- EXPORT TO PDF -->"
   ]
  },
  {
   "cell_type": "code",
   "execution_count": 3,
   "metadata": {
    "nbgrader": {
     "grade": false,
     "grade_id": "mean-variance",
     "locked": false,
     "schema_version": 2,
     "solution": true
    }
   },
   "outputs": [],
   "source": [
    "def mean(population):\n",
    "    \"\"\"\n",
    "    Returns the mean of population (mu)\n",
    "    \n",
    "    Keyword arguments:\n",
    "    population -- a numpy array of numbers\n",
    "    \"\"\"\n",
    "    # Calculate the mean of a population\n",
    "    listpop = population.tolist()\n",
    "    popmean = sum(listpop)/len(listpop)\n",
    "    return popmean\n",
    "\n",
    "def variance(population):\n",
    "    \"\"\"\n",
    "    Returns the variance of population (sigma squared)\n",
    "    \n",
    "    Keyword arguments:\n",
    "    population -- a numpy array of numbers\n",
    "    \"\"\"\n",
    "    # Calculate the variance of a population\n",
    "    listpop = population.tolist()\n",
    "    popvar = 0\n",
    "    for elements in listpop:\n",
    "        popvar += pow(elements - mean(population), 2)\n",
    "    popvar = popvar / len(listpop)\n",
    "    return popvar\n",
    "    \n",
    "\n"
   ]
  },
  {
   "cell_type": "code",
   "execution_count": 4,
   "metadata": {
    "deletable": false,
    "editable": false,
    "scrolled": false
   },
   "outputs": [
    {
     "name": "stdout",
     "output_type": "stream",
     "text": [
      "~~~~~~~~~~~~~~~~~~~~~~~~~~~~~~~~~~~~~~~~~~~~~~~~~~~~~~~~~~~~~~~~~~~~~\n",
      "Running tests\n",
      "\n",
      "---------------------------------------------------------------------\n",
      "Test summary\n",
      "    Passed: 2\n",
      "    Failed: 0\n",
      "[ooooooooook] 100.0% passed\n",
      "\n"
     ]
    }
   ],
   "source": [
    "ok.grade(\"q1\");"
   ]
  },
  {
   "cell_type": "markdown",
   "metadata": {
    "nbgrader": {
     "grade": false,
     "grade_id": "numpy-and-tables",
     "locked": true,
     "schema_version": 2,
     "solution": false
    }
   },
   "source": [
    "---\n",
    "# NumPy\n",
    "\n",
    "You should be able to understand the code in the following cells. Here are some useful resources to review if the cells below are unfamiliar:\n",
    "\n",
    "* [NumPy Review](resources/numpy_review)\n",
    "* [Condensed NumPy Review](http://cs231n.github.io/python-numpy-tutorial/#numpy)\n",
    "* [The Official NumPy Tutorial](https://docs.scipy.org/doc/numpy-dev/user/quickstart.html)\n",
    "* [Berkeley Data 8 Textbook Chapter on NumPy](https://www.inferentialthinking.com/chapters/05/1/Arrays)"
   ]
  },
  {
   "cell_type": "markdown",
   "metadata": {
    "nbgrader": {
     "grade": false,
     "grade_id": "jupyter-pro-tip",
     "locked": true,
     "schema_version": 2,
     "solution": false
    }
   },
   "source": [
    "**Jupyter pro-tip**: Pull up the docs for any function in Jupyter by running a cell with\n",
    "the function name and a `?` at the end:"
   ]
  },
  {
   "cell_type": "code",
   "execution_count": 5,
   "metadata": {
    "nbgrader": {
     "grade": false,
     "grade_id": "np-arange-huh",
     "locked": true,
     "schema_version": 2,
     "solution": false
    }
   },
   "outputs": [],
   "source": [
    "np.arange?"
   ]
  },
  {
   "cell_type": "markdown",
   "metadata": {
    "nbgrader": {
     "grade": false,
     "grade_id": "cell-61d40faa50614fbc",
     "locked": true,
     "schema_version": 2,
     "solution": false
    }
   },
   "source": [
    "You can close the window at the bottom by pressing `esc` several times. "
   ]
  },
  {
   "cell_type": "markdown",
   "metadata": {
    "nbgrader": {
     "grade": false,
     "grade_id": "jupyter-pro-tip-two",
     "locked": true,
     "schema_version": 2,
     "solution": false
    }
   },
   "source": [
    "**Another Jupyter pro-tip**: Pull up the docs for any function in Jupyter by typing the function\n",
    "name, then `<Shift>-<Tab>` on your keyboard. This is super convenient when you forget the order\n",
    "of the arguments to a function. You can press `<Tab>` multiple times to expand the docs and reveal additional information.\n",
    "\n",
    "Try it on the function below:"
   ]
  },
  {
   "cell_type": "code",
   "execution_count": 6,
   "metadata": {
    "scrolled": true
   },
   "outputs": [
    {
     "data": {
      "text/plain": [
       "<function numpy.linspace(start, stop, num=50, endpoint=True, retstep=False, dtype=None, axis=0)>"
      ]
     },
     "execution_count": 6,
     "metadata": {},
     "output_type": "execute_result"
    }
   ],
   "source": [
    "np.linspace"
   ]
  },
  {
   "cell_type": "markdown",
   "metadata": {},
   "source": [
    "Now, let's go through some linear algebra coding questions with NumPy. In this question, we'll ask you to use your linear algebra knowledge to fill in NumPy matrices. To conduct matrix multiplication in NumPy, you should write code like the following:"
   ]
  },
  {
   "cell_type": "code",
   "execution_count": 7,
   "metadata": {},
   "outputs": [
    {
     "data": {
      "text/plain": [
       "array([[ 76,  82],\n",
       "       [184, 199]])"
      ]
     },
     "execution_count": 7,
     "metadata": {},
     "output_type": "execute_result"
    }
   ],
   "source": [
    "# A matrix in NumPy is a 2-dimensional NumPy array\n",
    "matA = np.array([\n",
    "    [1, 2, 3],\n",
    "    [4, 5, 6],\n",
    "])\n",
    "\n",
    "matB = np.array([\n",
    "    [10, 11],\n",
    "    [12, 13],\n",
    "    [14, 15],\n",
    "])\n",
    "\n",
    "# The notation B @ v means: compute the matrix multiplication Bv\n",
    "matA @ matB"
   ]
  },
  {
   "cell_type": "markdown",
   "metadata": {},
   "source": [
    "You can also use the same syntax to do matrix-vector multiplication or vector dot products. Handy!"
   ]
  },
  {
   "cell_type": "code",
   "execution_count": 8,
   "metadata": {},
   "outputs": [
    {
     "name": "stdout",
     "output_type": "stream",
     "text": [
      "[ 76 184]\n",
      "760\n"
     ]
    }
   ],
   "source": [
    "matA = np.array([\n",
    "    [1, 2, 3],\n",
    "    [4, 5, 6],\n",
    "])\n",
    "\n",
    "# A vector in NumPy is simply a 1-dimensional NumPy array\n",
    "some_vec = np.array([ 10, 12, 14, ])\n",
    "\n",
    "another_vec = np.array([ 10, 20, 30 ])\n",
    "\n",
    "print(matA @ some_vec)\n",
    "print(some_vec @ another_vec)"
   ]
  },
  {
   "cell_type": "markdown",
   "metadata": {},
   "source": [
    "## Question 2a\n",
    "\n",
    "Alex, Kate, and Franky are shopping for fruit at the Isla Vista Food Cooperative. They decide they each want to buy a fruit bowl. A fruit bowl contains some fruit and the price of a fruit bowl is the total price of all of its individual fruit.\n",
    "\n",
    "The Food Coop has apples for \\\\$2.00, bananas for \\\\$1.00, and cantaloupes for \\\\$4.00 (expensive!). The price of each of these can be written in a vector:\n",
    "\n",
    "$$\n",
    "\\vec{v} = \\begin{bmatrix}\n",
    "     2 \\\\\n",
    "     1 \\\\\n",
    "     4 \\\\\n",
    "\\end{bmatrix}\n",
    "$$\n",
    "\n",
    "The Food Coop sells the following fruit bowls:\n",
    "\n",
    "1. 1 of each fruit\n",
    "2. 3 apples and 6 bananas\n",
    "3. 4 bananas and 2 cantaloupes\n",
    "4. 8 cantaloupes\n",
    "\n",
    "Create a 2-dimensional numpy array encoding the matrix $B$ such that the matrix-vector multiplication\n",
    "\n",
    "$$\n",
    "B\\vec{v}\n",
    "$$\n",
    "\n",
    "evaluates to a length 4 column vector containing the price of each fruit bowl. The first entry of the result should be the cost of fruit bowl #1, the second entry the cost of fruit bowl #2, etc.\n"
   ]
  },
  {
   "cell_type": "markdown",
   "metadata": {
    "deletable": false,
    "editable": false
   },
   "source": [
    "<!--\n",
    "BEGIN QUESTION\n",
    "name: q2a\n",
    "manual: true\n",
    "-->\n",
    "<!-- EXPORT TO PDF -->"
   ]
  },
  {
   "cell_type": "code",
   "execution_count": 9,
   "metadata": {},
   "outputs": [
    {
     "data": {
      "text/plain": [
       "array([ 7, 12, 12, 32])"
      ]
     },
     "execution_count": 9,
     "metadata": {},
     "output_type": "execute_result"
    }
   ],
   "source": [
    "v = np.array([2,1,4])\n",
    "\n",
    "B = np.array([\n",
    "             [1, 1, 1], \n",
    "             [3, 6, 0],\n",
    "             [0, 4, 2],\n",
    "             [0, 0, 8]])\n",
    "\n",
    "# The notation B @ v means: compute the matrix multiplication Bv\n",
    "B @ v"
   ]
  },
  {
   "cell_type": "code",
   "execution_count": 10,
   "metadata": {
    "deletable": false,
    "editable": false
   },
   "outputs": [
    {
     "name": "stdout",
     "output_type": "stream",
     "text": [
      "~~~~~~~~~~~~~~~~~~~~~~~~~~~~~~~~~~~~~~~~~~~~~~~~~~~~~~~~~~~~~~~~~~~~~\n",
      "Running tests\n",
      "\n",
      "---------------------------------------------------------------------\n",
      "Test summary\n",
      "    Passed: 2\n",
      "    Failed: 0\n",
      "[ooooooooook] 100.0% passed\n",
      "\n"
     ]
    }
   ],
   "source": [
    "ok.grade(\"q2a\");"
   ]
  },
  {
   "cell_type": "markdown",
   "metadata": {},
   "source": [
    "## Question 2b\n",
    "\n",
    "Alex, Kate and Franky make the following purchases:\n",
    "\n",
    "- Alex buys 2 fruit bowl #1s and 1 fruit bowl #2.\n",
    "- Kate buys 1 of each fruit bowl.\n",
    "- Franky buys 10 fruit bowl #4s (he really like cantaloupes).\n",
    "\n",
    "Create a matrix $A$ such that the matrix expression\n",
    "\n",
    "$$\n",
    "AB\\vec{v}\n",
    "$$\n",
    "\n",
    "evaluates to a length 3 column vector containing how much each of them spent. The first entry of the result should be the total amount spent by Alex, the second entry the amount spent by Kate, etc.\n",
    "\n",
    "Note that the tests for this question do not tell you whether your answer is correct. That's up to you to determine."
   ]
  },
  {
   "cell_type": "markdown",
   "metadata": {
    "deletable": false,
    "editable": false
   },
   "source": [
    "<!--\n",
    "BEGIN QUESTION\n",
    "name: q2b\n",
    "manual: true\n",
    "-->\n",
    "<!-- EXPORT TO PDF -->"
   ]
  },
  {
   "cell_type": "code",
   "execution_count": 11,
   "metadata": {},
   "outputs": [
    {
     "data": {
      "text/plain": [
       "array([ 26,  63, 320])"
      ]
     },
     "execution_count": 11,
     "metadata": {},
     "output_type": "execute_result"
    }
   ],
   "source": [
    "A = np.array([\n",
    "    [2, 1, 0, 0],\n",
    "    [1, 1, 1, 1],\n",
    "    [0, 0, 0, 10]\n",
    "    # Finish this!\n",
    "]) \n",
    "\n",
    "A @ B @ v "
   ]
  },
  {
   "cell_type": "code",
   "execution_count": 12,
   "metadata": {
    "deletable": false,
    "editable": false
   },
   "outputs": [
    {
     "name": "stdout",
     "output_type": "stream",
     "text": [
      "~~~~~~~~~~~~~~~~~~~~~~~~~~~~~~~~~~~~~~~~~~~~~~~~~~~~~~~~~~~~~~~~~~~~~\n",
      "Running tests\n",
      "\n",
      "---------------------------------------------------------------------\n",
      "Test summary\n",
      "    Passed: 1\n",
      "    Failed: 0\n",
      "[ooooooooook] 100.0% passed\n",
      "\n"
     ]
    }
   ],
   "source": [
    "ok.grade(\"q2b\");"
   ]
  },
  {
   "cell_type": "markdown",
   "metadata": {
    "deletable": false
   },
   "source": [
    "## Question 2c\n",
    "\n",
    "Who spent the most money? Assign `most` to a string containing the name of this person."
   ]
  },
  {
   "cell_type": "markdown",
   "metadata": {
    "deletable": false,
    "editable": false
   },
   "source": [
    "<!--\n",
    "BEGIN QUESTION\n",
    "name: q2c\n",
    "manual: true\n",
    "-->\n",
    "<!-- EXPORT TO PDF -->"
   ]
  },
  {
   "cell_type": "code",
   "execution_count": 13,
   "metadata": {},
   "outputs": [],
   "source": [
    "most = \"Franky\""
   ]
  },
  {
   "cell_type": "code",
   "execution_count": 14,
   "metadata": {
    "deletable": false,
    "editable": false
   },
   "outputs": [
    {
     "name": "stdout",
     "output_type": "stream",
     "text": [
      "~~~~~~~~~~~~~~~~~~~~~~~~~~~~~~~~~~~~~~~~~~~~~~~~~~~~~~~~~~~~~~~~~~~~~\n",
      "Running tests\n",
      "\n",
      "---------------------------------------------------------------------\n",
      "Test summary\n",
      "    Passed: 1\n",
      "    Failed: 0\n",
      "[ooooooooook] 100.0% passed\n",
      "\n"
     ]
    }
   ],
   "source": [
    "ok.grade(\"q2c\");"
   ]
  },
  {
   "cell_type": "markdown",
   "metadata": {},
   "source": [
    "## Question 2d\n",
    "\n",
    "Let's suppose IV Food Coop changes their fruit prices, but you don't know what they changed their prices to. Alex, Kate, and Franky buy the same quantity of fruit baskets and the number of fruit in each basket is the same, but now they each spent these amounts:\n",
    "\n",
    "$$\n",
    "\\vec{x} = \\begin{bmatrix}\n",
    "    80 \\\\\n",
    "    80 \\\\\n",
    "    100 \\\\\n",
    "\\end{bmatrix}\n",
    "$$\n",
    "\n",
    "Use `np.linalg.inv` and the above final costs to compute the new prices for the individual fruits as a vector called `new_v`."
   ]
  },
  {
   "cell_type": "markdown",
   "metadata": {
    "deletable": false,
    "editable": false
   },
   "source": [
    "<!--\n",
    "BEGIN QUESTION\n",
    "name: q2d\n",
    "manual: true\n",
    "-->\n",
    "<!-- EXPORT TO PDF -->"
   ]
  },
  {
   "cell_type": "code",
   "execution_count": 15,
   "metadata": {},
   "outputs": [
    {
     "name": "stdout",
     "output_type": "stream",
     "text": [
      "[ 24.34782609 -10.43478261   2.07608696]\n"
     ]
    }
   ],
   "source": [
    "x = np.array([80, 80, 100])\n",
    "A = np.array([\n",
    "    [2, 1, 0, 0],\n",
    "    [1, 1, 1, 1],\n",
    "    [0, 0, 0, 10],\n",
    "\n",
    "    \n",
    "]) \n",
    "\n",
    "B = np.array([\n",
    "             [1, 1, 1], \n",
    "             [3, 6, 0],\n",
    "             [0, 4, 2],\n",
    "             [0, 0, 8]])\n",
    "\n",
    "\n",
    "\n",
    "invAB = np.linalg.inv(A@B)\n",
    "\n",
    "new_v = x@invAB\n",
    "print(new_v)"
   ]
  },
  {
   "cell_type": "code",
   "execution_count": 16,
   "metadata": {
    "deletable": false,
    "editable": false,
    "scrolled": true
   },
   "outputs": [
    {
     "name": "stdout",
     "output_type": "stream",
     "text": [
      "~~~~~~~~~~~~~~~~~~~~~~~~~~~~~~~~~~~~~~~~~~~~~~~~~~~~~~~~~~~~~~~~~~~~~\n",
      "Running tests\n",
      "\n",
      "---------------------------------------------------------------------\n",
      "Test summary\n",
      "    Passed: 1\n",
      "    Failed: 0\n",
      "[ooooooooook] 100.0% passed\n",
      "\n"
     ]
    }
   ],
   "source": [
    "ok.grade(\"q2d\");"
   ]
  },
  {
   "cell_type": "markdown",
   "metadata": {
    "nbgrader": {
     "grade": false,
     "grade_id": "mv-calc",
     "locked": true,
     "schema_version": 2,
     "solution": false
    }
   },
   "source": [
    "---\n",
    "# Multivariable Calculus, Linear Algebra, and Probability\n",
    "\n",
    "The following questions ask you to recall your knowledge of multivariable calculus, linear algebra, and probability. We will use some of the most fundamental concepts from each discipline in this class, so the following problems should at least seem familiar to you.\n",
    "\n",
    "For the following problems, you should use LaTeX to format your answer. If you aren't familiar with LaTeX, not to worry. It's not hard to use in a Jupyter notebook. Just place your math in between dollar signs:\n",
    "\n",
    "\\\\$ f(x) = 2x \\\\$ becomes $ f(x) = 2x $.\n",
    "\n",
    "If you have a longer equation, use double dollar signs to place it on a line by itself:\n",
    "\n",
    "\\\\$\\\\$ \\sum_{i=0}^n i^2 \\\\$\\\\$ becomes:\n",
    "\n",
    "$$ \\sum_{i=0}^n i^2 $$.\n",
    "\n",
    "Here is some handy notation:\n",
    "\n",
    "| Output | Latex   |\n",
    "|:--|:--|\n",
    "| $$x^{a + b}$$  | `x^{a + b}` |\n",
    "| $$x_{a + b}$$ | `x_{a + b}` |\n",
    "| $$\\frac{a}{b}$$ | `\\frac{a}{b}` |\n",
    "| $$\\sqrt{a + b}$$ | `\\sqrt{a + b}` |\n",
    "| $$\\{ \\alpha, \\beta, \\gamma, \\pi, \\mu, \\sigma^2  \\}$$ | `\\{ \\alpha, \\beta, \\gamma, \\pi, \\mu, \\sigma^2  \\}` |\n",
    "| $$\\sum_{x=1}^{100}$$ | `\\sum_{x=1}^{100}` |\n",
    "| $$\\frac{\\partial}{\\partial x} $$ | `\\frac{\\partial}{\\partial x} ` |\n",
    "| $$\\begin{bmatrix} 2x + 4y \\\\ 4x + 6y^2 \\\\ \\end{bmatrix}$$ | `\\begin{bmatrix} 2x + 4y \\\\ 4x + 6y^2 \\\\ \\end{bmatrix}`|\n",
    "\n",
    "\n",
    "\n",
    "[For more about basic LaTeX formatting, you can read this article.](https://www.sharelatex.com/learn/Mathematical_expressions)\n",
    "\n",
    "If you have trouble with these topics, we suggest reviewing:\n",
    "\n",
    "- [Khan Academy's Multivariable Calculus](https://www.khanacademy.org/math/multivariable-calculus)\n",
    "- [Khan Academy's Linear Algebra](https://www.khanacademy.org/math/linear-algebra)\n",
    "- [Khan Academy's Statistics and Probability](https://www.khanacademy.org/math/statistics-probability)"
   ]
  },
  {
   "cell_type": "markdown",
   "metadata": {
    "nbgrader": {
     "grade": false,
     "grade_id": "question-4a",
     "locked": true,
     "schema_version": 2,
     "solution": false
    }
   },
   "source": [
    "Recall that summation (or sigma notation) is a way of expressing a long sum in a concise way.  Let $a_1, a_2, ..., a_n \\in \\mathbb{R}$ and $x_1, x_2, ..., x_n \\in \\mathbb{R}$ be collections of real numbers.  When you see $x_i$, you can think of the $i$ as an index for the $i^{th}$ $x$.  For example $x_2$ is the second $x$ value in the list $x_1, x_2, ..., x_n$.  We define sigma notation as follows:\n",
    "\n",
    "$$ \\sum_{i=1}^n a_i x_i = a_1 x_1 + a_2 x_2 + ... + a_n x_n $$\n",
    "\t\n",
    "We commonly use sigma notation to compactly write the definition of the arithmetic mean (commonly known as the ``average``):\n",
    "\t\n",
    "$$ \\bar{x} = \\dfrac{1}{n} \\left(x_1 + x_2 + ... + x_n \\right) = \\dfrac{1}{n} \\sum_{i=1}^{n} x_i $$"
   ]
  },
  {
   "cell_type": "markdown",
   "metadata": {
    "deletable": false,
    "editable": false
   },
   "source": [
    "<!--\n",
    "BEGIN QUESTION\n",
    "name: q3\n",
    "manual: true\n",
    "-->\n",
    "<!-- EXPORT TO PDF -->"
   ]
  },
  {
   "cell_type": "markdown",
   "metadata": {
    "nbgrader": {
     "grade": false,
     "grade_id": "question-4a",
     "locked": true,
     "schema_version": 2,
     "solution": false
    }
   },
   "source": [
    "\t\n",
    "\n",
    "## Question 3\n",
    "\n",
    "**For each of the statements below, either prove that it is true by using definitions or show that it is false by providing a counterexample.**"
   ]
  },
  {
   "cell_type": "markdown",
   "metadata": {
    "nbgrader": {
     "grade": false,
     "grade_id": "4a-statement-I",
     "locked": true,
     "schema_version": 2,
     "solution": false
    }
   },
   "source": [
    "#### Statement I\n",
    "$\\dfrac{\\sum_{i=1}^{n} a_i x_i}{\\sum_{i=1}^{n} a_i} = \\sum_{i=1}^n x_i$ \n",
    "\n",
    "<!-- EXPORT TO PDF -->"
   ]
  },
  {
   "cell_type": "markdown",
   "metadata": {
    "nbgrader": {
     "grade": true,
     "grade_id": "4a-statement-I-answer",
     "locked": false,
     "points": 1,
     "schema_version": 2,
     "solution": true
    }
   },
   "source": [
    "This is false.\n",
    "\n",
    "Counterexample:\n",
    "\n",
    "let $a_1$ = 3, \n",
    "    $a_2$ = 4, \n",
    "    $x_1$ = 5, \n",
    "    $x_2$ = 6\n",
    "    \n",
    "$\\dfrac{\\sum_{i=1}^{n} a_i x_i}{\\sum_{i=1}^{n} a_i}$\n",
    "\n",
    "$= \\dfrac{\\sum_{i=1}^{2} a_i x_i}{\\sum_{i=1}^{2} a_i} $\n",
    "\n",
    "$= \\dfrac{(a_1x_1) + (a_2x_2)}{a_1 + a_2} $\n",
    "\n",
    "$= (15 + 24)/15 $\n",
    "\n",
    "$\\neq 11$"
   ]
  },
  {
   "cell_type": "markdown",
   "metadata": {
    "nbgrader": {
     "grade": false,
     "grade_id": "4a-statement-II",
     "locked": true,
     "schema_version": 2,
     "solution": false
    }
   },
   "source": [
    "#### Statement II\n",
    "$\\sum_{i=1}^{n} x_1 = nx_1$\n",
    "\n",
    "<!-- EXPORT TO PDF -->"
   ]
  },
  {
   "cell_type": "markdown",
   "metadata": {
    "nbgrader": {
     "grade": true,
     "grade_id": "cell-4a-statement-II-answer",
     "locked": false,
     "points": 1,
     "schema_version": 2,
     "solution": true
    }
   },
   "source": [
    "$\\sum_{i=1}^{n}x_1$\n",
    "\n",
    "$= x_1 + x_1 + x_1 . . . x_ 1$\n",
    "\n",
    "$= nx_1$ "
   ]
  },
  {
   "cell_type": "markdown",
   "metadata": {
    "nbgrader": {
     "grade": false,
     "grade_id": "4a-statement-III",
     "locked": true,
     "schema_version": 2,
     "solution": false
    }
   },
   "source": [
    "#### Statement III\n",
    "$\\sum_{i=1}^{n} a_3 x_i = n a_3 \\bar{x}$\n",
    "\n",
    "<!-- EXPORT TO PDF -->"
   ]
  },
  {
   "cell_type": "markdown",
   "metadata": {
    "nbgrader": {
     "grade": true,
     "grade_id": "4a-statement-III-answer",
     "locked": false,
     "points": 1,
     "schema_version": 2,
     "solution": true
    }
   },
   "source": [
    "This is false.  The definition of $\\bar{x}$ is $\\frac{\\sum_{i=1}^{n} x_i}{n}$, and it would cancel out the n that is derived from the sum of the constant.\n",
    "\n",
    "Counterexample:\n",
    "\n",
    "let $a_3$ = 2, \n",
    "    $x_1$ = 4, \n",
    "    $x_2$ = 1, \n",
    "    $x_3$ = 2\n",
    "\n",
    "$\\sum_{i=1}^{3} 2 x_i$ \n",
    "\n",
    "$= \\sum_{i=1}^{3} 2 * \\sum_{i=1}^{3} x_i$\n",
    "\n",
    "$= 6 (4 + 1 + 2)$\n",
    "\n",
    "$\\neq \\frac{6 (4 + 1 + 2)}{3}$"
   ]
  },
  {
   "cell_type": "markdown",
   "metadata": {
    "nbgrader": {
     "grade": false,
     "grade_id": "4a-statement-IV",
     "locked": true,
     "schema_version": 2,
     "solution": false
    }
   },
   "source": [
    "#### Statement IV\n",
    "$\\sum_{i=1}^{n} a_i x_i = n \\bar{a} \\bar{x}$\n",
    "\n",
    "<!-- EXPORT TO PDF -->"
   ]
  },
  {
   "cell_type": "markdown",
   "metadata": {
    "nbgrader": {
     "grade": true,
     "grade_id": "4a-statement-IV-answer",
     "locked": false,
     "points": 1,
     "schema_version": 2,
     "solution": true
    }
   },
   "source": [
    "This is false.\n",
    "\n",
    "Counterexample:\n",
    "\n",
    "let $a_1$ = 3, \n",
    "    $a_2$ = 4, \n",
    "    $x_1$ = 5,    \n",
    "    $x_2$ = 6\n",
    "    \n",
    "$\\sum_{i=1}^{n} a_i x_i$\n",
    "\n",
    "$= (a_1x_1) + (a_2x_2)$ \n",
    "\n",
    "$= 15 + 24$\n",
    "\n",
    "$\\neq 2 * \\frac{11}{2} * \\frac{7}{2}$\n"
   ]
  },
  {
   "cell_type": "markdown",
   "metadata": {
    "deletable": false,
    "nbgrader": {
     "grade": false,
     "grade_id": "question-4c-x",
     "locked": true,
     "schema_version": 2,
     "solution": false
    },
    "tags": [
     "written"
    ]
   },
   "source": [
    "# Gradients and Differentiation\n",
    "\n",
    "\n",
    "## Question 4a\n",
    "\n",
    "Suppose we have the following scalar-valued function on $x$ and $y$:\n",
    "\n",
    "$$ f(x, y) = 2x^2 + 3xy + y^3 + e^{-2y} + \\ln(4y) $$\n",
    "\n",
    "Compute the partial derivative of $f(x,y)$ with respect to $x$.\n",
    "\n",
    "<!-- EXPORT TO PDF -->"
   ]
  },
  {
   "cell_type": "markdown",
   "metadata": {
    "nbgrader": {
     "grade": true,
     "grade_id": "question4c-x-answer",
     "locked": false,
     "points": 1,
     "schema_version": 2,
     "solution": true
    },
    "tags": [
     "solution"
    ]
   },
   "source": [
    "$\\frac{\\partial f}{\\partial x} = 4x + 3y$"
   ]
  },
  {
   "cell_type": "markdown",
   "metadata": {
    "nbgrader": {
     "grade": false,
     "grade_id": "question4c-y",
     "locked": true,
     "schema_version": 2,
     "solution": false
    },
    "tags": [
     "written"
    ]
   },
   "source": [
    "Now compute the partial derivative of $f(x,y)$ with respect to $y$:\n",
    "\n",
    "<!-- EXPORT TO PDF -->"
   ]
  },
  {
   "cell_type": "markdown",
   "metadata": {
    "nbgrader": {
     "grade": true,
     "grade_id": "question4c-y-answer",
     "locked": false,
     "points": 1,
     "schema_version": 2,
     "solution": true
    },
    "tags": [
     "solution"
    ]
   },
   "source": [
    "$\\frac{\\partial f}{\\partial y} = 3x + 3y^2 + -2e^{-2y} + \\frac{1}{y}$"
   ]
  },
  {
   "cell_type": "markdown",
   "metadata": {
    "deletable": false
   },
   "source": [
    "Finally, using your answers to the above two parts, compute $\\nabla f(x, y)$ (the gradient of $f(x,y)$) and evaluate the gradient at the point ($x = 2, y = -1$).\n",
    "\n",
    "<!-- EXPORT TO PDF -->"
   ]
  },
  {
   "cell_type": "markdown",
   "metadata": {},
   "source": [
    "$\\nabla f(x,y) = \\begin{bmatrix} 4x + 3y \\\\ 3x + 3y^2 + -2e^{-2y} + \\frac{1}{y} \\\\ \\end{bmatrix}$\n",
    "\n",
    "$\\nabla f(2,-1) = \\begin{bmatrix} 5 \\\\ 2 + -2e^{2} \\\\ \\end{bmatrix}$"
   ]
  },
  {
   "cell_type": "markdown",
   "metadata": {
    "nbgrader": {
     "grade": false,
     "grade_id": "question-4d",
     "locked": true,
     "schema_version": 2,
     "solution": false
    }
   },
   "source": [
    "## Question 4b\n",
    "\n",
    "Use calculus to find the value(s) of $\\theta$ which minimizes the expression below. Justify why it is the minimum.\n",
    "\n",
    "$\\sum_{x=1}^{10} (x - \\theta)^2$\n",
    "\n",
    "<!-- EXPORT TO PDF -->"
   ]
  },
  {
   "cell_type": "markdown",
   "metadata": {
    "nbgrader": {
     "grade": true,
     "grade_id": "question-4d-a-answer",
     "locked": false,
     "points": 2,
     "schema_version": 2,
     "solution": true
    }
   },
   "source": [
    "$\\sum_{x=1}^{10} (x - \\theta)^2$\n",
    "\n",
    "Take as function of $\\theta$.\n",
    "\n",
    "$f(\\theta) = \\sum_{x=1}^{10} (x - \\theta)^2$\n",
    "\n",
    "Take derivative of $f(\\theta)$\n",
    "\n",
    "$f'(\\theta) = -2 \\sum_{x=1}^{10} (x - \\theta)$\n",
    "\n",
    "Set equal to 0.\n",
    "\n",
    "$0 = -2 \\sum_{x=1}^{10} (x - \\theta)$\n",
    "\n",
    "$0 = 2 \\sum_{x=1}^{10} (\\theta - x)$\n",
    "\n",
    "$0 = \\sum_{x=1}^{10} \\theta - \\sum_{x=1}^{10} x$\n",
    "\n",
    "$\\sum_{x=1}^{10} x = \\sum_{x=1}^{10} \\theta$\n",
    "\n",
    "$(1 + 2 + 3 . . . + 10) = 10 \\theta$\n",
    "\n",
    "$55/10 = \\theta$\n",
    "\n",
    "$5.5 = \\theta$\n",
    "\n",
    "The mean is the best minimizer for the sum of squares. "
   ]
  },
  {
   "cell_type": "markdown",
   "metadata": {
    "nbgrader": {
     "grade": false,
     "grade_id": "question-4f",
     "locked": true,
     "schema_version": 2,
     "solution": false
    }
   },
   "source": [
    "## Question 4e\n",
    "Write code for the function $f(x) = x^2$, the equation of the tangent line passing through $x=8$, call it $df_8$and the equation of the tangent line passing through $x=0$, $df_0$.\n",
    "\n",
    "`plot_function` will make a lineplot using altair.  In that function set x to be integer values from (-15, 15). \n",
    "\n",
    "<!--and the range of the y axis to (-100, 300) and [set the figure size](https://altair-viz.github.io/user_guide/customization.html#adjusting-chart-size) to have a width of 600 and a height of 300.  Set one line color to red, one line to blue and one to green.-->\n",
    "\n",
    "Your resulting plot should look something like this:\n",
    "\n",
    "<img src=\"derivative.png\" align=\"center\"/>\n",
    "\n",
    "<!-- You should use the `alt.Chart` function to plot lines. `alt.Chart` requires that you submit a pandas data frame, so your first step be to create a 2-column data frame with the appropriate x and y columns.  You may find the following additional points helpful:\n",
    "- Make an individual line plot using [`mark_line`](https://altair-viz.github.io/gallery/simple_line_chart.html#)\n",
    "- In order to overlay each function make a chart for each equation separately and save them to a variable.  Layer them on top of one another by [using the `+` operator.](https://altair-viz.github.io/user_guide/compound_charts.html#layered-charts)\n",
    "- [Customizing the color](https://altair-viz.github.io/user_guide/customization.html#local-config)\n",
    "-->\n",
    "\n",
    "The plotting is based [example](https://altair-viz.github.io/gallery/simple_line_chart.html) will be a useful starting point."
   ]
  },
  {
   "cell_type": "markdown",
   "metadata": {
    "deletable": false,
    "editable": false
   },
   "source": [
    "<!--\n",
    "BEGIN QUESTION\n",
    "name: q4e\n",
    "manual: true\n",
    "-->\n",
    "<!-- EXPORT TO PDF -->"
   ]
  },
  {
   "cell_type": "code",
   "execution_count": 17,
   "metadata": {
    "nbgrader": {
     "grade": true,
     "grade_id": "question-4f-code",
     "locked": false,
     "points": 2,
     "schema_version": 2,
     "solution": true
    }
   },
   "outputs": [
    {
     "data": {
      "text/html": [
       "\n",
       "<div id=\"altair-viz-e9312b295c584263b2224edaf83d2916\"></div>\n",
       "<script type=\"text/javascript\">\n",
       "  (function(spec, embedOpt){\n",
       "    let outputDiv = document.currentScript.previousElementSibling;\n",
       "    if (outputDiv.id !== \"altair-viz-e9312b295c584263b2224edaf83d2916\") {\n",
       "      outputDiv = document.getElementById(\"altair-viz-e9312b295c584263b2224edaf83d2916\");\n",
       "    }\n",
       "    const paths = {\n",
       "      \"vega\": \"https://cdn.jsdelivr.net/npm//vega@5?noext\",\n",
       "      \"vega-lib\": \"https://cdn.jsdelivr.net/npm//vega-lib?noext\",\n",
       "      \"vega-lite\": \"https://cdn.jsdelivr.net/npm//vega-lite@4.8.1?noext\",\n",
       "      \"vega-embed\": \"https://cdn.jsdelivr.net/npm//vega-embed@6?noext\",\n",
       "    };\n",
       "\n",
       "    function loadScript(lib) {\n",
       "      return new Promise(function(resolve, reject) {\n",
       "        var s = document.createElement('script');\n",
       "        s.src = paths[lib];\n",
       "        s.async = true;\n",
       "        s.onload = () => resolve(paths[lib]);\n",
       "        s.onerror = () => reject(`Error loading script: ${paths[lib]}`);\n",
       "        document.getElementsByTagName(\"head\")[0].appendChild(s);\n",
       "      });\n",
       "    }\n",
       "\n",
       "    function showError(err) {\n",
       "      outputDiv.innerHTML = `<div class=\"error\" style=\"color:red;\">${err}</div>`;\n",
       "      throw err;\n",
       "    }\n",
       "\n",
       "    function displayChart(vegaEmbed) {\n",
       "      vegaEmbed(outputDiv, spec, embedOpt)\n",
       "        .catch(err => showError(`Javascript Error: ${err.message}<br>This usually means there's a typo in your chart specification. See the javascript console for the full traceback.`));\n",
       "    }\n",
       "\n",
       "    if(typeof define === \"function\" && define.amd) {\n",
       "      requirejs.config({paths});\n",
       "      require([\"vega-embed\"], displayChart, err => showError(`Error loading script: ${err.message}`));\n",
       "    } else if (typeof vegaEmbed === \"function\") {\n",
       "      displayChart(vegaEmbed);\n",
       "    } else {\n",
       "      loadScript(\"vega\")\n",
       "        .then(() => loadScript(\"vega-lite\"))\n",
       "        .then(() => loadScript(\"vega-embed\"))\n",
       "        .catch(showError)\n",
       "        .then(() => displayChart(vegaEmbed));\n",
       "    }\n",
       "  })({\"config\": {\"view\": {\"continuousWidth\": 400, \"continuousHeight\": 300}}, \"layer\": [{\"data\": {\"name\": \"data-d7f9722747535e96a5a0ef9e4c10c80c\"}, \"mark\": {\"type\": \"line\", \"clip\": true, \"color\": \"red\"}, \"encoding\": {\"x\": {\"type\": \"quantitative\", \"field\": \"x\", \"scale\": {\"domain\": [-15, 15]}}, \"y\": {\"type\": \"quantitative\", \"field\": \"g(x)\", \"scale\": {\"domain\": [-100, 300]}}}, \"height\": 300, \"width\": 600}, {\"data\": {\"name\": \"data-69b76b5ae3a3d01b554a0e412ad6e396\"}, \"mark\": {\"type\": \"line\", \"clip\": true, \"color\": \"blue\"}, \"encoding\": {\"x\": {\"type\": \"quantitative\", \"field\": \"x\", \"scale\": {\"domain\": [-15, 15]}}, \"y\": {\"type\": \"quantitative\", \"field\": \"g(x)\", \"scale\": {\"domain\": [-100, 300]}}}, \"height\": 300, \"width\": 600}, {\"data\": {\"name\": \"data-ea011c73e5791c97613e1b1917785ab4\"}, \"mark\": {\"type\": \"line\", \"clip\": true, \"color\": \"green\"}, \"encoding\": {\"x\": {\"type\": \"quantitative\", \"field\": \"x\", \"scale\": {\"domain\": [-15, 15]}}, \"y\": {\"type\": \"quantitative\", \"field\": \"g(x)\", \"scale\": {\"domain\": [-100, 300]}}}, \"height\": 300, \"width\": 600}], \"$schema\": \"https://vega.github.io/schema/vega-lite/v4.8.1.json\", \"datasets\": {\"data-d7f9722747535e96a5a0ef9e4c10c80c\": [{\"x\": -15, \"g(x)\": 225}, {\"x\": -14, \"g(x)\": 196}, {\"x\": -13, \"g(x)\": 169}, {\"x\": -12, \"g(x)\": 144}, {\"x\": -11, \"g(x)\": 121}, {\"x\": -10, \"g(x)\": 100}, {\"x\": -9, \"g(x)\": 81}, {\"x\": -8, \"g(x)\": 64}, {\"x\": -7, \"g(x)\": 49}, {\"x\": -6, \"g(x)\": 36}, {\"x\": -5, \"g(x)\": 25}, {\"x\": -4, \"g(x)\": 16}, {\"x\": -3, \"g(x)\": 9}, {\"x\": -2, \"g(x)\": 4}, {\"x\": -1, \"g(x)\": 1}, {\"x\": 0, \"g(x)\": 0}, {\"x\": 1, \"g(x)\": 1}, {\"x\": 2, \"g(x)\": 4}, {\"x\": 3, \"g(x)\": 9}, {\"x\": 4, \"g(x)\": 16}, {\"x\": 5, \"g(x)\": 25}, {\"x\": 6, \"g(x)\": 36}, {\"x\": 7, \"g(x)\": 49}, {\"x\": 8, \"g(x)\": 64}, {\"x\": 9, \"g(x)\": 81}, {\"x\": 10, \"g(x)\": 100}, {\"x\": 11, \"g(x)\": 121}, {\"x\": 12, \"g(x)\": 144}, {\"x\": 13, \"g(x)\": 169}, {\"x\": 14, \"g(x)\": 196}], \"data-69b76b5ae3a3d01b554a0e412ad6e396\": [{\"x\": -15, \"g(x)\": 0}, {\"x\": -14, \"g(x)\": 0}, {\"x\": -13, \"g(x)\": 0}, {\"x\": -12, \"g(x)\": 0}, {\"x\": -11, \"g(x)\": 0}, {\"x\": -10, \"g(x)\": 0}, {\"x\": -9, \"g(x)\": 0}, {\"x\": -8, \"g(x)\": 0}, {\"x\": -7, \"g(x)\": 0}, {\"x\": -6, \"g(x)\": 0}, {\"x\": -5, \"g(x)\": 0}, {\"x\": -4, \"g(x)\": 0}, {\"x\": -3, \"g(x)\": 0}, {\"x\": -2, \"g(x)\": 0}, {\"x\": -1, \"g(x)\": 0}, {\"x\": 0, \"g(x)\": 0}, {\"x\": 1, \"g(x)\": 0}, {\"x\": 2, \"g(x)\": 0}, {\"x\": 3, \"g(x)\": 0}, {\"x\": 4, \"g(x)\": 0}, {\"x\": 5, \"g(x)\": 0}, {\"x\": 6, \"g(x)\": 0}, {\"x\": 7, \"g(x)\": 0}, {\"x\": 8, \"g(x)\": 0}, {\"x\": 9, \"g(x)\": 0}, {\"x\": 10, \"g(x)\": 0}, {\"x\": 11, \"g(x)\": 0}, {\"x\": 12, \"g(x)\": 0}, {\"x\": 13, \"g(x)\": 0}, {\"x\": 14, \"g(x)\": 0}], \"data-ea011c73e5791c97613e1b1917785ab4\": [{\"x\": -15, \"g(x)\": -304}, {\"x\": -14, \"g(x)\": -288}, {\"x\": -13, \"g(x)\": -272}, {\"x\": -12, \"g(x)\": -256}, {\"x\": -11, \"g(x)\": -240}, {\"x\": -10, \"g(x)\": -224}, {\"x\": -9, \"g(x)\": -208}, {\"x\": -8, \"g(x)\": -192}, {\"x\": -7, \"g(x)\": -176}, {\"x\": -6, \"g(x)\": -160}, {\"x\": -5, \"g(x)\": -144}, {\"x\": -4, \"g(x)\": -128}, {\"x\": -3, \"g(x)\": -112}, {\"x\": -2, \"g(x)\": -96}, {\"x\": -1, \"g(x)\": -80}, {\"x\": 0, \"g(x)\": -64}, {\"x\": 1, \"g(x)\": -48}, {\"x\": 2, \"g(x)\": -32}, {\"x\": 3, \"g(x)\": -16}, {\"x\": 4, \"g(x)\": 0}, {\"x\": 5, \"g(x)\": 16}, {\"x\": 6, \"g(x)\": 32}, {\"x\": 7, \"g(x)\": 48}, {\"x\": 8, \"g(x)\": 64}, {\"x\": 9, \"g(x)\": 80}, {\"x\": 10, \"g(x)\": 96}, {\"x\": 11, \"g(x)\": 112}, {\"x\": 12, \"g(x)\": 128}, {\"x\": 13, \"g(x)\": 144}, {\"x\": 14, \"g(x)\": 160}]}}, {\"mode\": \"vega-lite\"});\n",
       "</script>"
      ],
      "text/plain": [
       "alt.LayerChart(...)"
      ]
     },
     "execution_count": 17,
     "metadata": {},
     "output_type": "execute_result"
    }
   ],
   "source": [
    "## Fill in the functions below\n",
    "def f(x):\n",
    "    points = []\n",
    "    for elements in x:\n",
    "        points.append(pow(elements, 2))\n",
    "    return points\n",
    "       \n",
    "def df0(x):\n",
    "    return 0\n",
    "\n",
    "def df8(x):\n",
    "    points = []\n",
    "    for elements in x:\n",
    "        points.append(16 * elements - 64)\n",
    "    return points\n",
    "\n",
    "## Plot the result of the input function g\n",
    "## Optionally set the color with the second argument\n",
    "## Fill in x = ...\n",
    "def plot_function(g, col=\"blue\"):\n",
    "    \n",
    "    # Set x-values to integer values of from -15 to 15\n",
    "    x = list(range(-15, 15))\n",
    "    \n",
    "    source = pd.DataFrame({\n",
    "      'x': x,\n",
    "      'g(x)': g(x),\n",
    "    })\n",
    "\n",
    "    return alt.Chart(source).mark_line(color=col, clip=True).encode(\n",
    "        x=alt.X('x',\n",
    "            scale=alt.Scale(domain=(-15, 15))\n",
    "        ),\n",
    "        y=alt.Y('g(x)',\n",
    "            scale=alt.Scale(domain=(-100, 300))\n",
    "        )\n",
    "    ).properties(\n",
    "    width=600,\n",
    "    height=300\n",
    ")\n",
    "\n",
    "p1 = plot_function(f, col=\"red\")\n",
    "p2 = plot_function(df0)\n",
    "p3 = plot_function(df8, col=\"green\")\n",
    "\n",
    "## Combine all lines into one plot\n",
    "p1 + p2 + p3"
   ]
  },
  {
   "cell_type": "code",
   "execution_count": 18,
   "metadata": {
    "deletable": false,
    "editable": false,
    "scrolled": true
   },
   "outputs": [
    {
     "name": "stdout",
     "output_type": "stream",
     "text": [
      "~~~~~~~~~~~~~~~~~~~~~~~~~~~~~~~~~~~~~~~~~~~~~~~~~~~~~~~~~~~~~~~~~~~~~\n",
      "Running tests\n",
      "\n",
      "---------------------------------------------------------------------\n",
      "Test summary\n",
      "    Passed: 3\n",
      "    Failed: 0\n",
      "[ooooooooook] 100.0% passed\n",
      "\n"
     ]
    }
   ],
   "source": [
    "ok.grade(\"q4e\");"
   ]
  },
  {
   "cell_type": "markdown",
   "metadata": {
    "deletable": false,
    "nbgrader": {
     "grade": false,
     "grade_id": "question-4h",
     "locked": true,
     "schema_version": 2,
     "solution": false
    }
   },
   "source": [
    "# Baye's Rule\n",
    "\n",
    "## Question 5\n",
    "\n",
    "Consider the following scenario:\n",
    "\n",
    "Only $1\\%$ of 40-year-old women who participate in a routine mammography test have breast cancer. $80\\%$ of women who have breast cancer will test positive, but $9.6\\%$ of women who don’t have breast cancer will also get positive tests. \n",
    "\n",
    "Suppose we know that a woman of this age tested positive in a routine screening. What is the probability that she actually has breast cancer?\n",
    "\n",
    "\n",
    "You **must** show work using LaTex (not code) to get credit for your answer.\n",
    "\n",
    "**Hint:** Use Bayes' rule.\n",
    "\n",
    "<!-- EXPORT TO PDF -->"
   ]
  },
  {
   "cell_type": "markdown",
   "metadata": {
    "nbgrader": {
     "grade": true,
     "grade_id": "question-4h-answer",
     "locked": false,
     "points": 2,
     "schema_version": 2,
     "solution": true
    }
   },
   "source": [
    "Let $A$ = 40-year-old woman has breast cancer, $B$ = 40-year-old woman tests positive\n",
    "\n",
    "$P(A|B) = \\frac{P(B|A)P(A)}{P(B)}$\n",
    "\n",
    "$P(A|B) = \\frac{0.80 * 0.01}{(0.01 * 0.8) + (0.99 * 0.096)}$\n",
    "\n",
    "$P(A|B) = \\frac{0.08}{(0.08) + (0.09504)}$\n",
    "\n",
    "$P(A|B) = \\frac{0.08}{(0.08) + (0.09504)}$\n",
    "\n",
    "$P(A|B) = \\frac{0.08}{0.17504}$\n",
    "\n",
    "$P(A|B) = 0.45704$"
   ]
  },
  {
   "cell_type": "markdown",
   "metadata": {
    "ExecuteTime": {
     "end_time": "2019-01-18T17:34:20.300785Z",
     "start_time": "2019-01-18T17:34:20.295232Z"
    }
   },
   "source": [
    "# Reading Documentation\n",
    "\n",
    "### Question 6\n",
    "We should also familiarize ourselves with looking up documentation and learning how to read it. Below is a section of code that plots a basic wireframe. Replace each `# Your answer here` with a description, **in your own words** of what the line above does, what the arguments being passed in are, and how the arguments are used in the function. For example,\n",
    "\n",
    "```\n",
    "np.arange(2, 5, 0.2)\n",
    "# This returns an array of numbers from 2 to 5 with an interval size of 0.2\n",
    "```\n",
    "\n",
    "**Hint:** The `Shift` + `Tab` tip from earlier in the notebook may help here. Remember that objects must be defined in order for the documentation shortcut to work; for example, all of the documentation will show for method calls from `np` since we've already executed `import numpy as np`. You may also want to experiment in the scratch cell to evaluate `x` and `xvec` (and similary for `y` and `z`) to see what the code is doing. \n",
    "\n",
    "<!-- See the `altair` documentation on types of [marks](https://altair-viz.github.io/user_guide/marks.html). to learn about `mark_rect` -->\n",
    "\n",
    "<!-- EXPORT TO PDF -->"
   ]
  },
  {
   "cell_type": "code",
   "execution_count": 19,
   "metadata": {
    "ExecuteTime": {
     "end_time": "2019-01-18T17:34:33.697258Z",
     "start_time": "2019-01-18T17:34:33.255290Z"
    }
   },
   "outputs": [
    {
     "data": {
      "text/html": [
       "\n",
       "<div id=\"altair-viz-a7a664c7ff7b42d59d7d8fdb89635a29\"></div>\n",
       "<script type=\"text/javascript\">\n",
       "  (function(spec, embedOpt){\n",
       "    let outputDiv = document.currentScript.previousElementSibling;\n",
       "    if (outputDiv.id !== \"altair-viz-a7a664c7ff7b42d59d7d8fdb89635a29\") {\n",
       "      outputDiv = document.getElementById(\"altair-viz-a7a664c7ff7b42d59d7d8fdb89635a29\");\n",
       "    }\n",
       "    const paths = {\n",
       "      \"vega\": \"https://cdn.jsdelivr.net/npm//vega@5?noext\",\n",
       "      \"vega-lib\": \"https://cdn.jsdelivr.net/npm//vega-lib?noext\",\n",
       "      \"vega-lite\": \"https://cdn.jsdelivr.net/npm//vega-lite@4.8.1?noext\",\n",
       "      \"vega-embed\": \"https://cdn.jsdelivr.net/npm//vega-embed@6?noext\",\n",
       "    };\n",
       "\n",
       "    function loadScript(lib) {\n",
       "      return new Promise(function(resolve, reject) {\n",
       "        var s = document.createElement('script');\n",
       "        s.src = paths[lib];\n",
       "        s.async = true;\n",
       "        s.onload = () => resolve(paths[lib]);\n",
       "        s.onerror = () => reject(`Error loading script: ${paths[lib]}`);\n",
       "        document.getElementsByTagName(\"head\")[0].appendChild(s);\n",
       "      });\n",
       "    }\n",
       "\n",
       "    function showError(err) {\n",
       "      outputDiv.innerHTML = `<div class=\"error\" style=\"color:red;\">${err}</div>`;\n",
       "      throw err;\n",
       "    }\n",
       "\n",
       "    function displayChart(vegaEmbed) {\n",
       "      vegaEmbed(outputDiv, spec, embedOpt)\n",
       "        .catch(err => showError(`Javascript Error: ${err.message}<br>This usually means there's a typo in your chart specification. See the javascript console for the full traceback.`));\n",
       "    }\n",
       "\n",
       "    if(typeof define === \"function\" && define.amd) {\n",
       "      requirejs.config({paths});\n",
       "      require([\"vega-embed\"], displayChart, err => showError(`Error loading script: ${err.message}`));\n",
       "    } else if (typeof vegaEmbed === \"function\") {\n",
       "      displayChart(vegaEmbed);\n",
       "    } else {\n",
       "      loadScript(\"vega\")\n",
       "        .then(() => loadScript(\"vega-lite\"))\n",
       "        .then(() => loadScript(\"vega-embed\"))\n",
       "        .catch(showError)\n",
       "        .then(() => displayChart(vegaEmbed));\n",
       "    }\n",
       "  })({\"config\": {\"view\": {\"continuousWidth\": 400, \"continuousHeight\": 300}}, \"data\": {\"name\": \"data-1487c93b91dee61ec4c167e470e512f4\"}, \"mark\": \"rect\", \"encoding\": {\"color\": {\"type\": \"quantitative\", \"field\": \"z\"}, \"x\": {\"type\": \"ordinal\", \"field\": \"x\"}, \"y\": {\"type\": \"ordinal\", \"field\": \"y\"}}, \"$schema\": \"https://vega.github.io/schema/vega-lite/v4.8.1.json\", \"datasets\": {\"data-1487c93b91dee61ec4c167e470e512f4\": [{\"x\": -5, \"y\": -5, \"z\": 50}, {\"x\": -4, \"y\": -5, \"z\": 41}, {\"x\": -3, \"y\": -5, \"z\": 34}, {\"x\": -2, \"y\": -5, \"z\": 29}, {\"x\": -1, \"y\": -5, \"z\": 26}, {\"x\": 0, \"y\": -5, \"z\": 25}, {\"x\": 1, \"y\": -5, \"z\": 26}, {\"x\": 2, \"y\": -5, \"z\": 29}, {\"x\": 3, \"y\": -5, \"z\": 34}, {\"x\": 4, \"y\": -5, \"z\": 41}, {\"x\": -5, \"y\": -4, \"z\": 41}, {\"x\": -4, \"y\": -4, \"z\": 32}, {\"x\": -3, \"y\": -4, \"z\": 25}, {\"x\": -2, \"y\": -4, \"z\": 20}, {\"x\": -1, \"y\": -4, \"z\": 17}, {\"x\": 0, \"y\": -4, \"z\": 16}, {\"x\": 1, \"y\": -4, \"z\": 17}, {\"x\": 2, \"y\": -4, \"z\": 20}, {\"x\": 3, \"y\": -4, \"z\": 25}, {\"x\": 4, \"y\": -4, \"z\": 32}, {\"x\": -5, \"y\": -3, \"z\": 34}, {\"x\": -4, \"y\": -3, \"z\": 25}, {\"x\": -3, \"y\": -3, \"z\": 18}, {\"x\": -2, \"y\": -3, \"z\": 13}, {\"x\": -1, \"y\": -3, \"z\": 10}, {\"x\": 0, \"y\": -3, \"z\": 9}, {\"x\": 1, \"y\": -3, \"z\": 10}, {\"x\": 2, \"y\": -3, \"z\": 13}, {\"x\": 3, \"y\": -3, \"z\": 18}, {\"x\": 4, \"y\": -3, \"z\": 25}, {\"x\": -5, \"y\": -2, \"z\": 29}, {\"x\": -4, \"y\": -2, \"z\": 20}, {\"x\": -3, \"y\": -2, \"z\": 13}, {\"x\": -2, \"y\": -2, \"z\": 8}, {\"x\": -1, \"y\": -2, \"z\": 5}, {\"x\": 0, \"y\": -2, \"z\": 4}, {\"x\": 1, \"y\": -2, \"z\": 5}, {\"x\": 2, \"y\": -2, \"z\": 8}, {\"x\": 3, \"y\": -2, \"z\": 13}, {\"x\": 4, \"y\": -2, \"z\": 20}, {\"x\": -5, \"y\": -1, \"z\": 26}, {\"x\": -4, \"y\": -1, \"z\": 17}, {\"x\": -3, \"y\": -1, \"z\": 10}, {\"x\": -2, \"y\": -1, \"z\": 5}, {\"x\": -1, \"y\": -1, \"z\": 2}, {\"x\": 0, \"y\": -1, \"z\": 1}, {\"x\": 1, \"y\": -1, \"z\": 2}, {\"x\": 2, \"y\": -1, \"z\": 5}, {\"x\": 3, \"y\": -1, \"z\": 10}, {\"x\": 4, \"y\": -1, \"z\": 17}, {\"x\": -5, \"y\": 0, \"z\": 25}, {\"x\": -4, \"y\": 0, \"z\": 16}, {\"x\": -3, \"y\": 0, \"z\": 9}, {\"x\": -2, \"y\": 0, \"z\": 4}, {\"x\": -1, \"y\": 0, \"z\": 1}, {\"x\": 0, \"y\": 0, \"z\": 0}, {\"x\": 1, \"y\": 0, \"z\": 1}, {\"x\": 2, \"y\": 0, \"z\": 4}, {\"x\": 3, \"y\": 0, \"z\": 9}, {\"x\": 4, \"y\": 0, \"z\": 16}, {\"x\": -5, \"y\": 1, \"z\": 26}, {\"x\": -4, \"y\": 1, \"z\": 17}, {\"x\": -3, \"y\": 1, \"z\": 10}, {\"x\": -2, \"y\": 1, \"z\": 5}, {\"x\": -1, \"y\": 1, \"z\": 2}, {\"x\": 0, \"y\": 1, \"z\": 1}, {\"x\": 1, \"y\": 1, \"z\": 2}, {\"x\": 2, \"y\": 1, \"z\": 5}, {\"x\": 3, \"y\": 1, \"z\": 10}, {\"x\": 4, \"y\": 1, \"z\": 17}, {\"x\": -5, \"y\": 2, \"z\": 29}, {\"x\": -4, \"y\": 2, \"z\": 20}, {\"x\": -3, \"y\": 2, \"z\": 13}, {\"x\": -2, \"y\": 2, \"z\": 8}, {\"x\": -1, \"y\": 2, \"z\": 5}, {\"x\": 0, \"y\": 2, \"z\": 4}, {\"x\": 1, \"y\": 2, \"z\": 5}, {\"x\": 2, \"y\": 2, \"z\": 8}, {\"x\": 3, \"y\": 2, \"z\": 13}, {\"x\": 4, \"y\": 2, \"z\": 20}, {\"x\": -5, \"y\": 3, \"z\": 34}, {\"x\": -4, \"y\": 3, \"z\": 25}, {\"x\": -3, \"y\": 3, \"z\": 18}, {\"x\": -2, \"y\": 3, \"z\": 13}, {\"x\": -1, \"y\": 3, \"z\": 10}, {\"x\": 0, \"y\": 3, \"z\": 9}, {\"x\": 1, \"y\": 3, \"z\": 10}, {\"x\": 2, \"y\": 3, \"z\": 13}, {\"x\": 3, \"y\": 3, \"z\": 18}, {\"x\": 4, \"y\": 3, \"z\": 25}, {\"x\": -5, \"y\": 4, \"z\": 41}, {\"x\": -4, \"y\": 4, \"z\": 32}, {\"x\": -3, \"y\": 4, \"z\": 25}, {\"x\": -2, \"y\": 4, \"z\": 20}, {\"x\": -1, \"y\": 4, \"z\": 17}, {\"x\": 0, \"y\": 4, \"z\": 16}, {\"x\": 1, \"y\": 4, \"z\": 17}, {\"x\": 2, \"y\": 4, \"z\": 20}, {\"x\": 3, \"y\": 4, \"z\": 25}, {\"x\": 4, \"y\": 4, \"z\": 32}]}}, {\"mode\": \"vega-lite\"});\n",
       "</script>"
      ],
      "text/plain": [
       "alt.Chart(...)"
      ]
     },
     "execution_count": 19,
     "metadata": {},
     "output_type": "execute_result"
    }
   ],
   "source": [
    "x, y = np.meshgrid(range(-5, 5), range(-5, 5))\n",
    "#Creates rectangular grid based off an array of x values and an array of y values.\n",
    "\n",
    "z = x ** 2 + y ** 2\n",
    "\n",
    "xvec = x.ravel()\n",
    "yvec = y.ravel()\n",
    "zvec = z.ravel()\n",
    "# Creates a 1D array for (x, y, z) based off of the input array \n",
    "\n",
    "## The following code uses altair to make a heatmap\n",
    "## We'll be exploring this more in future lectures / labs\n",
    "## In this case altair requires 3 columns: an x coordinate, a y coordinate, and a third column specifying the color\n",
    "source = pd.DataFrame({'x': xvec,\n",
    "                     'y': yvec,\n",
    "                     'z': zvec})\n",
    "\n",
    "alt.Chart(source).mark_rect().encode(\n",
    "    x='x:O',\n",
    "    y='y:O',\n",
    "    color='z:Q'\n",
    ")"
   ]
  },
  {
   "cell_type": "code",
   "execution_count": 20,
   "metadata": {},
   "outputs": [],
   "source": [
    "## SCRATCH"
   ]
  },
  {
   "cell_type": "markdown",
   "metadata": {},
   "source": [
    "## Submission"
   ]
  },
  {
   "cell_type": "markdown",
   "metadata": {},
   "source": [
    "**Important**: To make sure the test cases run correctly, click `Kernel>Restart & Run All` and make sure all of the test cases are still passing. Doing so will submit your code for you. \n",
    "\n",
    "If your test cases are no longer passing after restarting, it's likely because you're missing a variable, or that modifications that you'd previously made to your Data Frame are no longer happening (perhaps because you deleted a cell). \n",
    "\n",
    "You may submit this assignment as many times as you'd like before the deadline.\n",
    "\n",
    "**You must restart and run all cells before submitting. Otherwise, you may pass test cases locally, but not on our servers.**\n",
    "\n",
    "Please submit `hw1.ipynb` as well as `hw1.pdf` to gradescope.  Evaluating last cell will generate `hw1.pdf` for submission.  "
   ]
  },
  {
   "cell_type": "markdown",
   "metadata": {},
   "source": [
    "# Submit\n",
    "Make sure you have run all cells in your notebook in order before running the cell below, so that all images/graphs appear in the output.\n",
    "**Please save before submitting!**"
   ]
  },
  {
   "cell_type": "code",
   "execution_count": 22,
   "metadata": {},
   "outputs": [
    {
     "name": "stdout",
     "output_type": "stream",
     "text": [
      "Generating PDF...\n",
      "Saved hw1.pdf\n"
     ]
    }
   ],
   "source": [
    "# Save your notebook first, then run this cell to submit.\n",
    "import jassign.to_pdf\n",
    "jassign.to_pdf.generate_pdf('hw1.ipynb', 'hw1.pdf')"
   ]
  }
 ],
 "metadata": {
  "celltoolbar": "Edit Metadata",
  "kernelspec": {
   "display_name": "Python 3",
   "language": "python",
   "name": "python3"
  },
  "language_info": {
   "codemirror_mode": {
    "name": "ipython",
    "version": 3
   },
   "file_extension": ".py",
   "mimetype": "text/x-python",
   "name": "python",
   "nbconvert_exporter": "python",
   "pygments_lexer": "ipython3",
   "version": "3.7.6"
  },
  "toc": {
   "base_numbering": 1,
   "nav_menu": {
    "height": "512px",
    "width": "252px"
   },
   "number_sections": true,
   "sideBar": true,
   "skip_h1_title": false,
   "title_cell": "Table of Contents",
   "title_sidebar": "Contents",
   "toc_cell": true,
   "toc_position": {
    "height": "calc(100% - 180px)",
    "left": "10px",
    "top": "150px",
    "width": "217px"
   },
   "toc_section_display": false,
   "toc_window_display": true
  }
 },
 "nbformat": 4,
 "nbformat_minor": 2
}
